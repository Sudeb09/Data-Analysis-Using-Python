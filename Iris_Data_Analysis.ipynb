{
  "nbformat": 4,
  "nbformat_minor": 0,
  "metadata": {
    "colab": {
      "provenance": [],
      "authorship_tag": "ABX9TyPNxIh62FSVXcaX7uR79yII",
      "include_colab_link": true
    },
    "kernelspec": {
      "name": "python3",
      "display_name": "Python 3"
    },
    "language_info": {
      "name": "python"
    }
  },
  "cells": [
    {
      "cell_type": "markdown",
      "metadata": {
        "id": "view-in-github",
        "colab_type": "text"
      },
      "source": [
        "<a href=\"https://colab.research.google.com/github/Sudeb09/Data-Analysis-Using-Python/blob/main/Iris_Data_Analysis.ipynb\" target=\"_parent\"><img src=\"https://colab.research.google.com/assets/colab-badge.svg\" alt=\"Open In Colab\"/></a>"
      ]
    },
    {
      "cell_type": "markdown",
      "source": [
        "# Iris Data Analysis Using Python"
      ],
      "metadata": {
        "id": "d4-YZ0yk6qWK"
      }
    },
    {
      "cell_type": "markdown",
      "source": [
        "## **Introduction**\n",
        "\n",
        "This dataset is an expanded version of the classic Iris flower dataset, widely used in pattern recognition, classification, and data visualization. It consists of 150 samples spanning three species: Iris-setosa, Iris-versicolor, and Iris-virginica. Each record includes four quantitative features — Sepal Length, Sepal Width, Petal Length, and Petal Width — all measured in centimeters.\n",
        "\n",
        "The dataset illustrates typical real-world data challenges: some entries are missing or replaced with placeholders such as ?? or ###. Proper data cleaning, imputation, or removal of these inconsistencies is essential before any meaningful statistical analysis or machine learning modeling."
      ],
      "metadata": {
        "id": "LZfGg09ubgnF"
      }
    },
    {
      "cell_type": "markdown",
      "source": [
        "## **Key observations:**\n",
        "\n",
        "  1.  There are three species: Iris-setosa, Iris-versicolor, and Iris-virginica.\n",
        "\n",
        "  2. Some cells contain missing or invalid entries (like ?? or ###)."
      ],
      "metadata": {
        "id": "xMla0p0Zbtlt"
      }
    },
    {
      "cell_type": "markdown",
      "source": [
        "**Connecting the Google Drive with Google Colab**"
      ],
      "metadata": {
        "id": "ljogiE-_6ip_"
      }
    },
    {
      "cell_type": "code",
      "execution_count": 80,
      "metadata": {
        "colab": {
          "base_uri": "https://localhost:8080/"
        },
        "id": "4PD6qS-20XZf",
        "outputId": "964566cc-0e89-4301-8960-07ea29cbdf98"
      },
      "outputs": [
        {
          "output_type": "stream",
          "name": "stdout",
          "text": [
            "Drive already mounted at /content/drive; to attempt to forcibly remount, call drive.mount(\"/content/drive\", force_remount=True).\n"
          ]
        }
      ],
      "source": [
        "from google.colab import drive\n",
        "drive.mount('/content/drive')"
      ]
    },
    {
      "cell_type": "markdown",
      "source": [
        "**Importing The Required Libraries and Loading The Dataset**"
      ],
      "metadata": {
        "id": "Ky-Aqcs069qX"
      }
    },
    {
      "cell_type": "code",
      "source": [
        "import pandas as pd\n",
        "import numpy as np\n",
        "import matplotlib.pyplot as plt\n",
        "\n",
        "# Loding the iris dataset from google drive\n",
        "df  = pd.read_csv('/content/drive/MyDrive/Data Science Notebooks/Iris Data Analysis/Iris_data_sample.csv', index_col=0, na_values=['??', '###'])"
      ],
      "metadata": {
        "id": "Bp_dDazc7QYY"
      },
      "execution_count": 81,
      "outputs": []
    },
    {
      "cell_type": "markdown",
      "source": [
        "# **Overview of The Iris Dataset**"
      ],
      "metadata": {
        "id": "DhPqjLyxHjp0"
      }
    },
    {
      "cell_type": "markdown",
      "source": [
        "1. The dimensions of the dataset."
      ],
      "metadata": {
        "id": "9PE7UUyvHqgB"
      }
    },
    {
      "cell_type": "code",
      "source": [
        "print(\"The dimensions of the dataset :\", df.shape)"
      ],
      "metadata": {
        "colab": {
          "base_uri": "https://localhost:8080/"
        },
        "id": "9EJnUpsoHz4s",
        "outputId": "ca7e35a1-6d95-4987-f3b9-d90b6f02d3f9"
      },
      "execution_count": 82,
      "outputs": [
        {
          "output_type": "stream",
          "name": "stdout",
          "text": [
            "The dimensions of the dataset : (150, 5)\n"
          ]
        }
      ]
    },
    {
      "cell_type": "markdown",
      "source": [
        "2. The column names and types."
      ],
      "metadata": {
        "id": "MOICgLwjH96T"
      }
    },
    {
      "cell_type": "code",
      "source": [
        "print(\"-- The columns name and type --\")\n",
        "print(df.dtypes)"
      ],
      "metadata": {
        "colab": {
          "base_uri": "https://localhost:8080/"
        },
        "id": "j0wjPFZMH-05",
        "outputId": "a6ee5413-7f49-4bae-99fb-78393f86b5dd"
      },
      "execution_count": 83,
      "outputs": [
        {
          "output_type": "stream",
          "name": "stdout",
          "text": [
            "-- The columns name and type --\n",
            "SepalLengthCm    float64\n",
            "SepalWidthCm     float64\n",
            "PetalLengthCm    float64\n",
            "PetalWidthCm     float64\n",
            "Species           object\n",
            "dtype: object\n"
          ]
        }
      ]
    },
    {
      "cell_type": "markdown",
      "source": [
        "3. First and Last 5 rows of the dataset."
      ],
      "metadata": {
        "id": "JT9MZdQEIu_V"
      }
    },
    {
      "cell_type": "code",
      "source": [
        "print(\"First 5 rows : \")\n",
        "print(df.head())\n",
        "\n",
        "print()\n",
        "print(\"Last 5 rows : \")\n",
        "print(df.tail())"
      ],
      "metadata": {
        "colab": {
          "base_uri": "https://localhost:8080/"
        },
        "id": "Jpt37iULIvdl",
        "outputId": "9a81506f-9232-47e7-a8c1-43a066232328"
      },
      "execution_count": 84,
      "outputs": [
        {
          "output_type": "stream",
          "name": "stdout",
          "text": [
            "First 5 rows : \n",
            "   SepalLengthCm  SepalWidthCm  PetalLengthCm  PetalWidthCm      Species\n",
            "1            5.1           3.5            1.4           0.2  Iris-setosa\n",
            "2            4.9           NaN            1.4           0.2          NaN\n",
            "3            4.7           3.2            1.3           0.2  Iris-setosa\n",
            "4            NaN           3.1            1.5           0.2  Iris-setosa\n",
            "5            5.0           3.6            NaN           0.2  Iris-setosa\n",
            "\n",
            "Last 5 rows : \n",
            "     SepalLengthCm  SepalWidthCm  PetalLengthCm  PetalWidthCm         Species\n",
            "146            6.7           3.0            5.2           2.3  Iris-virginica\n",
            "147            6.3           2.5            5.0           1.9  Iris-virginica\n",
            "148            6.5           3.0            5.2           2.0  Iris-virginica\n",
            "149            6.2           3.4            5.4           2.3  Iris-virginica\n",
            "150            5.9           3.0            5.1           1.8  Iris-virginica\n"
          ]
        }
      ]
    },
    {
      "cell_type": "markdown",
      "source": [
        "Here we can see some NaN values in our dataset. So now we count the missing values and clean the dataset."
      ],
      "metadata": {
        "id": "95n8EE25JRFo"
      }
    },
    {
      "cell_type": "markdown",
      "source": [
        "## **Data Cleaning**"
      ],
      "metadata": {
        "id": "EgnzZN4sGpEC"
      }
    },
    {
      "cell_type": "markdown",
      "source": [
        "1. Missing values in the dataset"
      ],
      "metadata": {
        "id": "Zxx0ykKqJg52"
      }
    },
    {
      "cell_type": "code",
      "source": [
        "print(df.isnull().sum())"
      ],
      "metadata": {
        "colab": {
          "base_uri": "https://localhost:8080/"
        },
        "id": "eq32nqWeJgLQ",
        "outputId": "184ca9be-4478-4269-deb2-4d2c7e6b37a2"
      },
      "execution_count": 85,
      "outputs": [
        {
          "output_type": "stream",
          "name": "stdout",
          "text": [
            "SepalLengthCm    1\n",
            "SepalWidthCm     1\n",
            "PetalLengthCm    2\n",
            "PetalWidthCm     0\n",
            "Species          1\n",
            "dtype: int64\n"
          ]
        }
      ]
    },
    {
      "cell_type": "markdown",
      "source": [
        "Here we can clearly see the numbers of missing values present in the dataset. Now we clean all the NaN values for a clear analysis."
      ],
      "metadata": {
        "id": "NapVK1kmGZdy"
      }
    },
    {
      "cell_type": "markdown",
      "source": [
        "2. Cleaning data on \"SepalLengthCm'"
      ],
      "metadata": {
        "id": "mzHnigzacwo7"
      }
    },
    {
      "cell_type": "code",
      "source": [
        "print(\"Rows where PetalLengthCm is NaN:\")\n",
        "display(df[df['SepalLengthCm'].isnull()])"
      ],
      "metadata": {
        "colab": {
          "base_uri": "https://localhost:8080/",
          "height": 98
        },
        "id": "-4B6WSpHWDbs",
        "outputId": "8dac7c2c-8802-4c43-8790-18f7882942ac"
      },
      "execution_count": 86,
      "outputs": [
        {
          "output_type": "stream",
          "name": "stdout",
          "text": [
            "Rows where PetalLengthCm is NaN:\n"
          ]
        },
        {
          "output_type": "display_data",
          "data": {
            "text/plain": [
              "   SepalLengthCm  SepalWidthCm  PetalLengthCm  PetalWidthCm      Species\n",
              "4            NaN           3.1            1.5           0.2  Iris-setosa"
            ],
            "text/html": [
              "\n",
              "  <div id=\"df-dba72494-4d6d-4fcd-b87d-68e6dc041caf\" class=\"colab-df-container\">\n",
              "    <div>\n",
              "<style scoped>\n",
              "    .dataframe tbody tr th:only-of-type {\n",
              "        vertical-align: middle;\n",
              "    }\n",
              "\n",
              "    .dataframe tbody tr th {\n",
              "        vertical-align: top;\n",
              "    }\n",
              "\n",
              "    .dataframe thead th {\n",
              "        text-align: right;\n",
              "    }\n",
              "</style>\n",
              "<table border=\"1\" class=\"dataframe\">\n",
              "  <thead>\n",
              "    <tr style=\"text-align: right;\">\n",
              "      <th></th>\n",
              "      <th>SepalLengthCm</th>\n",
              "      <th>SepalWidthCm</th>\n",
              "      <th>PetalLengthCm</th>\n",
              "      <th>PetalWidthCm</th>\n",
              "      <th>Species</th>\n",
              "    </tr>\n",
              "  </thead>\n",
              "  <tbody>\n",
              "    <tr>\n",
              "      <th>4</th>\n",
              "      <td>NaN</td>\n",
              "      <td>3.1</td>\n",
              "      <td>1.5</td>\n",
              "      <td>0.2</td>\n",
              "      <td>Iris-setosa</td>\n",
              "    </tr>\n",
              "  </tbody>\n",
              "</table>\n",
              "</div>\n",
              "    <div class=\"colab-df-buttons\">\n",
              "\n",
              "  <div class=\"colab-df-container\">\n",
              "    <button class=\"colab-df-convert\" onclick=\"convertToInteractive('df-dba72494-4d6d-4fcd-b87d-68e6dc041caf')\"\n",
              "            title=\"Convert this dataframe to an interactive table.\"\n",
              "            style=\"display:none;\">\n",
              "\n",
              "  <svg xmlns=\"http://www.w3.org/2000/svg\" height=\"24px\" viewBox=\"0 -960 960 960\">\n",
              "    <path d=\"M120-120v-720h720v720H120Zm60-500h600v-160H180v160Zm220 220h160v-160H400v160Zm0 220h160v-160H400v160ZM180-400h160v-160H180v160Zm440 0h160v-160H620v160ZM180-180h160v-160H180v160Zm440 0h160v-160H620v160Z\"/>\n",
              "  </svg>\n",
              "    </button>\n",
              "\n",
              "  <style>\n",
              "    .colab-df-container {\n",
              "      display:flex;\n",
              "      gap: 12px;\n",
              "    }\n",
              "\n",
              "    .colab-df-convert {\n",
              "      background-color: #E8F0FE;\n",
              "      border: none;\n",
              "      border-radius: 50%;\n",
              "      cursor: pointer;\n",
              "      display: none;\n",
              "      fill: #1967D2;\n",
              "      height: 32px;\n",
              "      padding: 0 0 0 0;\n",
              "      width: 32px;\n",
              "    }\n",
              "\n",
              "    .colab-df-convert:hover {\n",
              "      background-color: #E2EBFA;\n",
              "      box-shadow: 0px 1px 2px rgba(60, 64, 67, 0.3), 0px 1px 3px 1px rgba(60, 64, 67, 0.15);\n",
              "      fill: #174EA6;\n",
              "    }\n",
              "\n",
              "    .colab-df-buttons div {\n",
              "      margin-bottom: 4px;\n",
              "    }\n",
              "\n",
              "    [theme=dark] .colab-df-convert {\n",
              "      background-color: #3B4455;\n",
              "      fill: #D2E3FC;\n",
              "    }\n",
              "\n",
              "    [theme=dark] .colab-df-convert:hover {\n",
              "      background-color: #434B5C;\n",
              "      box-shadow: 0px 1px 3px 1px rgba(0, 0, 0, 0.15);\n",
              "      filter: drop-shadow(0px 1px 2px rgba(0, 0, 0, 0.3));\n",
              "      fill: #FFFFFF;\n",
              "    }\n",
              "  </style>\n",
              "\n",
              "    <script>\n",
              "      const buttonEl =\n",
              "        document.querySelector('#df-dba72494-4d6d-4fcd-b87d-68e6dc041caf button.colab-df-convert');\n",
              "      buttonEl.style.display =\n",
              "        google.colab.kernel.accessAllowed ? 'block' : 'none';\n",
              "\n",
              "      async function convertToInteractive(key) {\n",
              "        const element = document.querySelector('#df-dba72494-4d6d-4fcd-b87d-68e6dc041caf');\n",
              "        const dataTable =\n",
              "          await google.colab.kernel.invokeFunction('convertToInteractive',\n",
              "                                                    [key], {});\n",
              "        if (!dataTable) return;\n",
              "\n",
              "        const docLinkHtml = 'Like what you see? Visit the ' +\n",
              "          '<a target=\"_blank\" href=https://colab.research.google.com/notebooks/data_table.ipynb>data table notebook</a>'\n",
              "          + ' to learn more about interactive tables.';\n",
              "        element.innerHTML = '';\n",
              "        dataTable['output_type'] = 'display_data';\n",
              "        await google.colab.output.renderOutput(dataTable, element);\n",
              "        const docLink = document.createElement('div');\n",
              "        docLink.innerHTML = docLinkHtml;\n",
              "        element.appendChild(docLink);\n",
              "      }\n",
              "    </script>\n",
              "  </div>\n",
              "\n",
              "\n",
              "    </div>\n",
              "  </div>\n"
            ],
            "application/vnd.google.colaboratory.intrinsic+json": {
              "type": "dataframe",
              "summary": "{\n  \"name\": \"display(df[df['SepalLengthCm']\",\n  \"rows\": 1,\n  \"fields\": [\n    {\n      \"column\": \"SepalLengthCm\",\n      \"properties\": {\n        \"dtype\": \"number\",\n        \"std\": null,\n        \"min\": null,\n        \"max\": null,\n        \"num_unique_values\": 0,\n        \"samples\": [],\n        \"semantic_type\": \"\",\n        \"description\": \"\"\n      }\n    },\n    {\n      \"column\": \"SepalWidthCm\",\n      \"properties\": {\n        \"dtype\": \"number\",\n        \"std\": null,\n        \"min\": 3.1,\n        \"max\": 3.1,\n        \"num_unique_values\": 1,\n        \"samples\": [],\n        \"semantic_type\": \"\",\n        \"description\": \"\"\n      }\n    },\n    {\n      \"column\": \"PetalLengthCm\",\n      \"properties\": {\n        \"dtype\": \"number\",\n        \"std\": null,\n        \"min\": 1.5,\n        \"max\": 1.5,\n        \"num_unique_values\": 1,\n        \"samples\": [],\n        \"semantic_type\": \"\",\n        \"description\": \"\"\n      }\n    },\n    {\n      \"column\": \"PetalWidthCm\",\n      \"properties\": {\n        \"dtype\": \"number\",\n        \"std\": null,\n        \"min\": 0.2,\n        \"max\": 0.2,\n        \"num_unique_values\": 1,\n        \"samples\": [],\n        \"semantic_type\": \"\",\n        \"description\": \"\"\n      }\n    },\n    {\n      \"column\": \"Species\",\n      \"properties\": {\n        \"dtype\": \"string\",\n        \"num_unique_values\": 1,\n        \"samples\": [],\n        \"semantic_type\": \"\",\n        \"description\": \"\"\n      }\n    }\n  ]\n}"
            }
          },
          "metadata": {}
        }
      ]
    },
    {
      "cell_type": "code",
      "source": [
        "# Find the row number where 'SepalLengthCm' is NaN\n",
        "nan_index = df[df['SepalLengthCm'].isnull()].index\n",
        "\n",
        "# Iterate through the indices with NaN SepalLengthCm\n",
        "for index in nan_index:\n",
        "    # Find the value of 'SepalWidthCm' and 'Species' in that row\n",
        "    sepal_width_value = df.loc[index, 'SepalWidthCm']\n",
        "    species_value = df.loc[index, 'Species']\n",
        "\n",
        "    # Check if both sepal_width_value and species_value are not NaN\n",
        "    if pd.notna(sepal_width_value) and pd.notna(species_value):\n",
        "        # Calculate the average of 'SepalLengthCm' where 'SepalWidthCm' equals the found value AND Species equals the found value\n",
        "        average_sepal_length = df[(df['SepalWidthCm'] == sepal_width_value) & (df['Species'] == species_value)]['SepalLengthCm'].mean()\n",
        "\n",
        "        # Replace the NaN 'SepalLengthCm' by the calculated average\n",
        "        df.loc[index, 'SepalLengthCm'] = average_sepal_length\n",
        "    elif pd.notna(sepal_width_value):\n",
        "         # If only SepalWidthCm is not NaN, calculate the average based on SepalWidthCm\n",
        "         average_sepal_length = df[df['SepalWidthCm'] == sepal_width_value]['SepalLengthCm'].mean()\n",
        "         df.loc[index, 'SepalLengthCm'] = average_sepal_length\n",
        "    else:\n",
        "        # Handle cases where both or either are NaN in the row with NaN SepalLengthCm - could fill with overall mean or leave as NaN\n",
        "        pass # Or df.loc[index, 'SepalLengthCm'] = df['SepalLengthCm'].mean()\n",
        "\n",
        "\n",
        "print(\"Missing values after filling SepalLengthCm based on SepalWidthCm and Species:\")\n",
        "print(df.isnull().sum())"
      ],
      "metadata": {
        "colab": {
          "base_uri": "https://localhost:8080/"
        },
        "id": "2ghSAJqJLAsi",
        "outputId": "1c3ab19d-d96f-4cc9-ee01-331ad0b71c3a"
      },
      "execution_count": 87,
      "outputs": [
        {
          "output_type": "stream",
          "name": "stdout",
          "text": [
            "Missing values after filling SepalLengthCm based on SepalWidthCm and Species:\n",
            "SepalLengthCm    0\n",
            "SepalWidthCm     1\n",
            "PetalLengthCm    2\n",
            "PetalWidthCm     0\n",
            "Species          1\n",
            "dtype: int64\n"
          ]
        }
      ]
    },
    {
      "cell_type": "markdown",
      "source": [
        "3. Cleaning data on \"SepalWidthCm'"
      ],
      "metadata": {
        "id": "Q80f74ThdBuZ"
      }
    },
    {
      "cell_type": "code",
      "source": [
        "print(\"Rows where SepalWidthCm is NaN:\")\n",
        "display(df[df['SepalWidthCm'].isnull()])"
      ],
      "metadata": {
        "colab": {
          "base_uri": "https://localhost:8080/",
          "height": 98
        },
        "id": "1Z8xbVPiWp5f",
        "outputId": "3ea89ff6-b98b-4e68-eda3-bb90d5c7e0ee"
      },
      "execution_count": 88,
      "outputs": [
        {
          "output_type": "stream",
          "name": "stdout",
          "text": [
            "Rows where SepalWidthCm is NaN:\n"
          ]
        },
        {
          "output_type": "display_data",
          "data": {
            "text/plain": [
              "   SepalLengthCm  SepalWidthCm  PetalLengthCm  PetalWidthCm Species\n",
              "2            4.9           NaN            1.4           0.2     NaN"
            ],
            "text/html": [
              "\n",
              "  <div id=\"df-0bd39dce-6eea-4dd0-bc32-2751f43c7a9d\" class=\"colab-df-container\">\n",
              "    <div>\n",
              "<style scoped>\n",
              "    .dataframe tbody tr th:only-of-type {\n",
              "        vertical-align: middle;\n",
              "    }\n",
              "\n",
              "    .dataframe tbody tr th {\n",
              "        vertical-align: top;\n",
              "    }\n",
              "\n",
              "    .dataframe thead th {\n",
              "        text-align: right;\n",
              "    }\n",
              "</style>\n",
              "<table border=\"1\" class=\"dataframe\">\n",
              "  <thead>\n",
              "    <tr style=\"text-align: right;\">\n",
              "      <th></th>\n",
              "      <th>SepalLengthCm</th>\n",
              "      <th>SepalWidthCm</th>\n",
              "      <th>PetalLengthCm</th>\n",
              "      <th>PetalWidthCm</th>\n",
              "      <th>Species</th>\n",
              "    </tr>\n",
              "  </thead>\n",
              "  <tbody>\n",
              "    <tr>\n",
              "      <th>2</th>\n",
              "      <td>4.9</td>\n",
              "      <td>NaN</td>\n",
              "      <td>1.4</td>\n",
              "      <td>0.2</td>\n",
              "      <td>NaN</td>\n",
              "    </tr>\n",
              "  </tbody>\n",
              "</table>\n",
              "</div>\n",
              "    <div class=\"colab-df-buttons\">\n",
              "\n",
              "  <div class=\"colab-df-container\">\n",
              "    <button class=\"colab-df-convert\" onclick=\"convertToInteractive('df-0bd39dce-6eea-4dd0-bc32-2751f43c7a9d')\"\n",
              "            title=\"Convert this dataframe to an interactive table.\"\n",
              "            style=\"display:none;\">\n",
              "\n",
              "  <svg xmlns=\"http://www.w3.org/2000/svg\" height=\"24px\" viewBox=\"0 -960 960 960\">\n",
              "    <path d=\"M120-120v-720h720v720H120Zm60-500h600v-160H180v160Zm220 220h160v-160H400v160Zm0 220h160v-160H400v160ZM180-400h160v-160H180v160Zm440 0h160v-160H620v160ZM180-180h160v-160H180v160Zm440 0h160v-160H620v160Z\"/>\n",
              "  </svg>\n",
              "    </button>\n",
              "\n",
              "  <style>\n",
              "    .colab-df-container {\n",
              "      display:flex;\n",
              "      gap: 12px;\n",
              "    }\n",
              "\n",
              "    .colab-df-convert {\n",
              "      background-color: #E8F0FE;\n",
              "      border: none;\n",
              "      border-radius: 50%;\n",
              "      cursor: pointer;\n",
              "      display: none;\n",
              "      fill: #1967D2;\n",
              "      height: 32px;\n",
              "      padding: 0 0 0 0;\n",
              "      width: 32px;\n",
              "    }\n",
              "\n",
              "    .colab-df-convert:hover {\n",
              "      background-color: #E2EBFA;\n",
              "      box-shadow: 0px 1px 2px rgba(60, 64, 67, 0.3), 0px 1px 3px 1px rgba(60, 64, 67, 0.15);\n",
              "      fill: #174EA6;\n",
              "    }\n",
              "\n",
              "    .colab-df-buttons div {\n",
              "      margin-bottom: 4px;\n",
              "    }\n",
              "\n",
              "    [theme=dark] .colab-df-convert {\n",
              "      background-color: #3B4455;\n",
              "      fill: #D2E3FC;\n",
              "    }\n",
              "\n",
              "    [theme=dark] .colab-df-convert:hover {\n",
              "      background-color: #434B5C;\n",
              "      box-shadow: 0px 1px 3px 1px rgba(0, 0, 0, 0.15);\n",
              "      filter: drop-shadow(0px 1px 2px rgba(0, 0, 0, 0.3));\n",
              "      fill: #FFFFFF;\n",
              "    }\n",
              "  </style>\n",
              "\n",
              "    <script>\n",
              "      const buttonEl =\n",
              "        document.querySelector('#df-0bd39dce-6eea-4dd0-bc32-2751f43c7a9d button.colab-df-convert');\n",
              "      buttonEl.style.display =\n",
              "        google.colab.kernel.accessAllowed ? 'block' : 'none';\n",
              "\n",
              "      async function convertToInteractive(key) {\n",
              "        const element = document.querySelector('#df-0bd39dce-6eea-4dd0-bc32-2751f43c7a9d');\n",
              "        const dataTable =\n",
              "          await google.colab.kernel.invokeFunction('convertToInteractive',\n",
              "                                                    [key], {});\n",
              "        if (!dataTable) return;\n",
              "\n",
              "        const docLinkHtml = 'Like what you see? Visit the ' +\n",
              "          '<a target=\"_blank\" href=https://colab.research.google.com/notebooks/data_table.ipynb>data table notebook</a>'\n",
              "          + ' to learn more about interactive tables.';\n",
              "        element.innerHTML = '';\n",
              "        dataTable['output_type'] = 'display_data';\n",
              "        await google.colab.output.renderOutput(dataTable, element);\n",
              "        const docLink = document.createElement('div');\n",
              "        docLink.innerHTML = docLinkHtml;\n",
              "        element.appendChild(docLink);\n",
              "      }\n",
              "    </script>\n",
              "  </div>\n",
              "\n",
              "\n",
              "    </div>\n",
              "  </div>\n"
            ],
            "application/vnd.google.colaboratory.intrinsic+json": {
              "type": "dataframe",
              "repr_error": "0"
            }
          },
          "metadata": {}
        }
      ]
    },
    {
      "cell_type": "markdown",
      "source": [
        "Here we can see the corrosponding species in NaN. So we need to remove this whole row for clear analysis."
      ],
      "metadata": {
        "id": "IfVuP-xZdNcP"
      }
    },
    {
      "cell_type": "code",
      "metadata": {
        "colab": {
          "base_uri": "https://localhost:8080/"
        },
        "id": "a773a23f",
        "outputId": "ab1f18a0-2799-4f50-d373-40b9dce9c7b7"
      },
      "source": [
        "df.dropna(subset=['Species'], inplace=True)\n",
        "print(\"Missing values after dropping rows with missing Species:\")\n",
        "print(df.isnull().sum())"
      ],
      "execution_count": 89,
      "outputs": [
        {
          "output_type": "stream",
          "name": "stdout",
          "text": [
            "Missing values after dropping rows with missing Species:\n",
            "SepalLengthCm    0\n",
            "SepalWidthCm     0\n",
            "PetalLengthCm    2\n",
            "PetalWidthCm     0\n",
            "Species          0\n",
            "dtype: int64\n"
          ]
        }
      ]
    },
    {
      "cell_type": "markdown",
      "source": [
        "4. Cleaning data on \"PetalLengthCm'"
      ],
      "metadata": {
        "id": "0lfDiXqDdd-1"
      }
    },
    {
      "cell_type": "code",
      "source": [
        "print(\"Rows where PetalLengthCm is NaN:\")\n",
        "display(df[df['PetalLengthCm'].isnull()])"
      ],
      "metadata": {
        "colab": {
          "base_uri": "https://localhost:8080/",
          "height": 129
        },
        "id": "5FWmz536Uamt",
        "outputId": "663ac8f2-0858-48cf-81ee-aa7589326c59"
      },
      "execution_count": 90,
      "outputs": [
        {
          "output_type": "stream",
          "name": "stdout",
          "text": [
            "Rows where PetalLengthCm is NaN:\n"
          ]
        },
        {
          "output_type": "display_data",
          "data": {
            "text/plain": [
              "   SepalLengthCm  SepalWidthCm  PetalLengthCm  PetalWidthCm      Species\n",
              "5            5.0           3.6            NaN           0.2  Iris-setosa\n",
              "6            5.4           3.9            NaN           0.4  Iris-setosa"
            ],
            "text/html": [
              "\n",
              "  <div id=\"df-36a17e3d-fbbe-4dcc-bb71-198d0b8f578e\" class=\"colab-df-container\">\n",
              "    <div>\n",
              "<style scoped>\n",
              "    .dataframe tbody tr th:only-of-type {\n",
              "        vertical-align: middle;\n",
              "    }\n",
              "\n",
              "    .dataframe tbody tr th {\n",
              "        vertical-align: top;\n",
              "    }\n",
              "\n",
              "    .dataframe thead th {\n",
              "        text-align: right;\n",
              "    }\n",
              "</style>\n",
              "<table border=\"1\" class=\"dataframe\">\n",
              "  <thead>\n",
              "    <tr style=\"text-align: right;\">\n",
              "      <th></th>\n",
              "      <th>SepalLengthCm</th>\n",
              "      <th>SepalWidthCm</th>\n",
              "      <th>PetalLengthCm</th>\n",
              "      <th>PetalWidthCm</th>\n",
              "      <th>Species</th>\n",
              "    </tr>\n",
              "  </thead>\n",
              "  <tbody>\n",
              "    <tr>\n",
              "      <th>5</th>\n",
              "      <td>5.0</td>\n",
              "      <td>3.6</td>\n",
              "      <td>NaN</td>\n",
              "      <td>0.2</td>\n",
              "      <td>Iris-setosa</td>\n",
              "    </tr>\n",
              "    <tr>\n",
              "      <th>6</th>\n",
              "      <td>5.4</td>\n",
              "      <td>3.9</td>\n",
              "      <td>NaN</td>\n",
              "      <td>0.4</td>\n",
              "      <td>Iris-setosa</td>\n",
              "    </tr>\n",
              "  </tbody>\n",
              "</table>\n",
              "</div>\n",
              "    <div class=\"colab-df-buttons\">\n",
              "\n",
              "  <div class=\"colab-df-container\">\n",
              "    <button class=\"colab-df-convert\" onclick=\"convertToInteractive('df-36a17e3d-fbbe-4dcc-bb71-198d0b8f578e')\"\n",
              "            title=\"Convert this dataframe to an interactive table.\"\n",
              "            style=\"display:none;\">\n",
              "\n",
              "  <svg xmlns=\"http://www.w3.org/2000/svg\" height=\"24px\" viewBox=\"0 -960 960 960\">\n",
              "    <path d=\"M120-120v-720h720v720H120Zm60-500h600v-160H180v160Zm220 220h160v-160H400v160Zm0 220h160v-160H400v160ZM180-400h160v-160H180v160Zm440 0h160v-160H620v160ZM180-180h160v-160H180v160Zm440 0h160v-160H620v160Z\"/>\n",
              "  </svg>\n",
              "    </button>\n",
              "\n",
              "  <style>\n",
              "    .colab-df-container {\n",
              "      display:flex;\n",
              "      gap: 12px;\n",
              "    }\n",
              "\n",
              "    .colab-df-convert {\n",
              "      background-color: #E8F0FE;\n",
              "      border: none;\n",
              "      border-radius: 50%;\n",
              "      cursor: pointer;\n",
              "      display: none;\n",
              "      fill: #1967D2;\n",
              "      height: 32px;\n",
              "      padding: 0 0 0 0;\n",
              "      width: 32px;\n",
              "    }\n",
              "\n",
              "    .colab-df-convert:hover {\n",
              "      background-color: #E2EBFA;\n",
              "      box-shadow: 0px 1px 2px rgba(60, 64, 67, 0.3), 0px 1px 3px 1px rgba(60, 64, 67, 0.15);\n",
              "      fill: #174EA6;\n",
              "    }\n",
              "\n",
              "    .colab-df-buttons div {\n",
              "      margin-bottom: 4px;\n",
              "    }\n",
              "\n",
              "    [theme=dark] .colab-df-convert {\n",
              "      background-color: #3B4455;\n",
              "      fill: #D2E3FC;\n",
              "    }\n",
              "\n",
              "    [theme=dark] .colab-df-convert:hover {\n",
              "      background-color: #434B5C;\n",
              "      box-shadow: 0px 1px 3px 1px rgba(0, 0, 0, 0.15);\n",
              "      filter: drop-shadow(0px 1px 2px rgba(0, 0, 0, 0.3));\n",
              "      fill: #FFFFFF;\n",
              "    }\n",
              "  </style>\n",
              "\n",
              "    <script>\n",
              "      const buttonEl =\n",
              "        document.querySelector('#df-36a17e3d-fbbe-4dcc-bb71-198d0b8f578e button.colab-df-convert');\n",
              "      buttonEl.style.display =\n",
              "        google.colab.kernel.accessAllowed ? 'block' : 'none';\n",
              "\n",
              "      async function convertToInteractive(key) {\n",
              "        const element = document.querySelector('#df-36a17e3d-fbbe-4dcc-bb71-198d0b8f578e');\n",
              "        const dataTable =\n",
              "          await google.colab.kernel.invokeFunction('convertToInteractive',\n",
              "                                                    [key], {});\n",
              "        if (!dataTable) return;\n",
              "\n",
              "        const docLinkHtml = 'Like what you see? Visit the ' +\n",
              "          '<a target=\"_blank\" href=https://colab.research.google.com/notebooks/data_table.ipynb>data table notebook</a>'\n",
              "          + ' to learn more about interactive tables.';\n",
              "        element.innerHTML = '';\n",
              "        dataTable['output_type'] = 'display_data';\n",
              "        await google.colab.output.renderOutput(dataTable, element);\n",
              "        const docLink = document.createElement('div');\n",
              "        docLink.innerHTML = docLinkHtml;\n",
              "        element.appendChild(docLink);\n",
              "      }\n",
              "    </script>\n",
              "  </div>\n",
              "\n",
              "\n",
              "    <div id=\"df-b926a72b-2193-4ccb-aa77-b91c0c1e89ba\">\n",
              "      <button class=\"colab-df-quickchart\" onclick=\"quickchart('df-b926a72b-2193-4ccb-aa77-b91c0c1e89ba')\"\n",
              "                title=\"Suggest charts\"\n",
              "                style=\"display:none;\">\n",
              "\n",
              "<svg xmlns=\"http://www.w3.org/2000/svg\" height=\"24px\"viewBox=\"0 0 24 24\"\n",
              "     width=\"24px\">\n",
              "    <g>\n",
              "        <path d=\"M19 3H5c-1.1 0-2 .9-2 2v14c0 1.1.9 2 2 2h14c1.1 0 2-.9 2-2V5c0-1.1-.9-2-2-2zM9 17H7v-7h2v7zm4 0h-2V7h2v10zm4 0h-2v-4h2v4z\"/>\n",
              "    </g>\n",
              "</svg>\n",
              "      </button>\n",
              "\n",
              "<style>\n",
              "  .colab-df-quickchart {\n",
              "      --bg-color: #E8F0FE;\n",
              "      --fill-color: #1967D2;\n",
              "      --hover-bg-color: #E2EBFA;\n",
              "      --hover-fill-color: #174EA6;\n",
              "      --disabled-fill-color: #AAA;\n",
              "      --disabled-bg-color: #DDD;\n",
              "  }\n",
              "\n",
              "  [theme=dark] .colab-df-quickchart {\n",
              "      --bg-color: #3B4455;\n",
              "      --fill-color: #D2E3FC;\n",
              "      --hover-bg-color: #434B5C;\n",
              "      --hover-fill-color: #FFFFFF;\n",
              "      --disabled-bg-color: #3B4455;\n",
              "      --disabled-fill-color: #666;\n",
              "  }\n",
              "\n",
              "  .colab-df-quickchart {\n",
              "    background-color: var(--bg-color);\n",
              "    border: none;\n",
              "    border-radius: 50%;\n",
              "    cursor: pointer;\n",
              "    display: none;\n",
              "    fill: var(--fill-color);\n",
              "    height: 32px;\n",
              "    padding: 0;\n",
              "    width: 32px;\n",
              "  }\n",
              "\n",
              "  .colab-df-quickchart:hover {\n",
              "    background-color: var(--hover-bg-color);\n",
              "    box-shadow: 0 1px 2px rgba(60, 64, 67, 0.3), 0 1px 3px 1px rgba(60, 64, 67, 0.15);\n",
              "    fill: var(--button-hover-fill-color);\n",
              "  }\n",
              "\n",
              "  .colab-df-quickchart-complete:disabled,\n",
              "  .colab-df-quickchart-complete:disabled:hover {\n",
              "    background-color: var(--disabled-bg-color);\n",
              "    fill: var(--disabled-fill-color);\n",
              "    box-shadow: none;\n",
              "  }\n",
              "\n",
              "  .colab-df-spinner {\n",
              "    border: 2px solid var(--fill-color);\n",
              "    border-color: transparent;\n",
              "    border-bottom-color: var(--fill-color);\n",
              "    animation:\n",
              "      spin 1s steps(1) infinite;\n",
              "  }\n",
              "\n",
              "  @keyframes spin {\n",
              "    0% {\n",
              "      border-color: transparent;\n",
              "      border-bottom-color: var(--fill-color);\n",
              "      border-left-color: var(--fill-color);\n",
              "    }\n",
              "    20% {\n",
              "      border-color: transparent;\n",
              "      border-left-color: var(--fill-color);\n",
              "      border-top-color: var(--fill-color);\n",
              "    }\n",
              "    30% {\n",
              "      border-color: transparent;\n",
              "      border-left-color: var(--fill-color);\n",
              "      border-top-color: var(--fill-color);\n",
              "      border-right-color: var(--fill-color);\n",
              "    }\n",
              "    40% {\n",
              "      border-color: transparent;\n",
              "      border-right-color: var(--fill-color);\n",
              "      border-top-color: var(--fill-color);\n",
              "    }\n",
              "    60% {\n",
              "      border-color: transparent;\n",
              "      border-right-color: var(--fill-color);\n",
              "    }\n",
              "    80% {\n",
              "      border-color: transparent;\n",
              "      border-right-color: var(--fill-color);\n",
              "      border-bottom-color: var(--fill-color);\n",
              "    }\n",
              "    90% {\n",
              "      border-color: transparent;\n",
              "      border-bottom-color: var(--fill-color);\n",
              "    }\n",
              "  }\n",
              "</style>\n",
              "\n",
              "      <script>\n",
              "        async function quickchart(key) {\n",
              "          const quickchartButtonEl =\n",
              "            document.querySelector('#' + key + ' button');\n",
              "          quickchartButtonEl.disabled = true;  // To prevent multiple clicks.\n",
              "          quickchartButtonEl.classList.add('colab-df-spinner');\n",
              "          try {\n",
              "            const charts = await google.colab.kernel.invokeFunction(\n",
              "                'suggestCharts', [key], {});\n",
              "          } catch (error) {\n",
              "            console.error('Error during call to suggestCharts:', error);\n",
              "          }\n",
              "          quickchartButtonEl.classList.remove('colab-df-spinner');\n",
              "          quickchartButtonEl.classList.add('colab-df-quickchart-complete');\n",
              "        }\n",
              "        (() => {\n",
              "          let quickchartButtonEl =\n",
              "            document.querySelector('#df-b926a72b-2193-4ccb-aa77-b91c0c1e89ba button');\n",
              "          quickchartButtonEl.style.display =\n",
              "            google.colab.kernel.accessAllowed ? 'block' : 'none';\n",
              "        })();\n",
              "      </script>\n",
              "    </div>\n",
              "\n",
              "    </div>\n",
              "  </div>\n"
            ],
            "application/vnd.google.colaboratory.intrinsic+json": {
              "type": "dataframe",
              "summary": "{\n  \"name\": \"display(df[df['PetalLengthCm']\",\n  \"rows\": 2,\n  \"fields\": [\n    {\n      \"column\": \"SepalLengthCm\",\n      \"properties\": {\n        \"dtype\": \"number\",\n        \"std\": 0.2828427124746193,\n        \"min\": 5.0,\n        \"max\": 5.4,\n        \"num_unique_values\": 2,\n        \"samples\": [\n          5.4,\n          5.0\n        ],\n        \"semantic_type\": \"\",\n        \"description\": \"\"\n      }\n    },\n    {\n      \"column\": \"SepalWidthCm\",\n      \"properties\": {\n        \"dtype\": \"number\",\n        \"std\": 0.21213203435596414,\n        \"min\": 3.6,\n        \"max\": 3.9,\n        \"num_unique_values\": 2,\n        \"samples\": [\n          3.9,\n          3.6\n        ],\n        \"semantic_type\": \"\",\n        \"description\": \"\"\n      }\n    },\n    {\n      \"column\": \"PetalLengthCm\",\n      \"properties\": {\n        \"dtype\": \"number\",\n        \"std\": null,\n        \"min\": null,\n        \"max\": null,\n        \"num_unique_values\": 0,\n        \"samples\": [],\n        \"semantic_type\": \"\",\n        \"description\": \"\"\n      }\n    },\n    {\n      \"column\": \"PetalWidthCm\",\n      \"properties\": {\n        \"dtype\": \"number\",\n        \"std\": 0.14142135623730953,\n        \"min\": 0.2,\n        \"max\": 0.4,\n        \"num_unique_values\": 2,\n        \"samples\": [],\n        \"semantic_type\": \"\",\n        \"description\": \"\"\n      }\n    },\n    {\n      \"column\": \"Species\",\n      \"properties\": {\n        \"dtype\": \"string\",\n        \"num_unique_values\": 1,\n        \"samples\": [],\n        \"semantic_type\": \"\",\n        \"description\": \"\"\n      }\n    }\n  ]\n}"
            }
          },
          "metadata": {}
        }
      ]
    },
    {
      "cell_type": "code",
      "source": [
        "# Find the row number where 'PetalLengthCm' is NaN\n",
        "nan_index = df[df['PetalLengthCm'].isnull()].index\n",
        "\n",
        "# Iterate through the indices with NaN PetalLengthCm\n",
        "for index in nan_index:\n",
        "    # Find the value of 'SepalWidthCm' and 'Species' in that row\n",
        "    petal_width_value = df.loc[index, 'PetalWidthCm']\n",
        "    species_value = df.loc[index, 'Species']\n",
        "\n",
        "    # Check if both sepal_width_value and species_value are not NaN\n",
        "    if pd.notna(petal_width_value) and pd.notna(species_value):\n",
        "        # Calculate the average of 'PetalLengthCm' where 'PetalWidthCm' equals the found value AND Species equals the found value\n",
        "        average_petal_length = df[(df['PetalWidthCm'] ==petal_width_value) & (df['Species'] == species_value)]['PetalLengthCm'].mean()\n",
        "\n",
        "        # Replace the NaN 'PetalLengthCm' by the calculated average\n",
        "        df.loc[index, 'PetalLengthCm'] = average_petal_length\n",
        "    elif pd.notna(petal_width_value):\n",
        "         # If only PetalWidthCm is not NaN, calculate the average based on PetalWidthCm\n",
        "         average_petal_length = df[df['PetalWidthCm'] == petal_width_value]['PetalalLengthCm'].mean()\n",
        "         df.loc[index, 'PetalalLengthCm'] = average_petal_length\n",
        "    else:\n",
        "        # Handle cases where both or either are NaN in the row with NaN PetalLengthCm - could fill with overall mean or leave as NaN\n",
        "        pass # Or df.loc[index, 'PetalLengthCm'] = df['PetalLengthCm'].mean()\n",
        "\n",
        "\n",
        "print(\"Missing values after filling PetalalLengthCm based on PetalalWidthCm and Species:\")\n",
        "print(df.isnull().sum())"
      ],
      "metadata": {
        "colab": {
          "base_uri": "https://localhost:8080/"
        },
        "id": "uVgo6iLtU1m_",
        "outputId": "fca83354-296b-4373-9868-7d173ba63e47"
      },
      "execution_count": 91,
      "outputs": [
        {
          "output_type": "stream",
          "name": "stdout",
          "text": [
            "Missing values after filling PetalalLengthCm based on PetalalWidthCm and Species:\n",
            "SepalLengthCm    0\n",
            "SepalWidthCm     0\n",
            "PetalLengthCm    0\n",
            "PetalWidthCm     0\n",
            "Species          0\n",
            "dtype: int64\n"
          ]
        }
      ]
    },
    {
      "cell_type": "markdown",
      "source": [
        "## **Visualization**"
      ],
      "metadata": {
        "id": "VSXIbwRqXR2V"
      }
    },
    {
      "cell_type": "markdown",
      "source": [
        "Q.1 - Calculate the records presents in the dataset by species"
      ],
      "metadata": {
        "id": "RVLSKv5MYqdK"
      }
    },
    {
      "cell_type": "code",
      "source": [
        "df.value_counts('Species')"
      ],
      "metadata": {
        "colab": {
          "base_uri": "https://localhost:8080/",
          "height": 209
        },
        "id": "XbwbCEzTY5Xp",
        "outputId": "ed486cb3-c9f0-412f-c53f-868ac2f24376"
      },
      "execution_count": 97,
      "outputs": [
        {
          "output_type": "execute_result",
          "data": {
            "text/plain": [
              "Species\n",
              "Iris-versicolor    50\n",
              "Iris-virginica     50\n",
              "Iris-setosa        49\n",
              "Name: count, dtype: int64"
            ],
            "text/html": [
              "<div>\n",
              "<style scoped>\n",
              "    .dataframe tbody tr th:only-of-type {\n",
              "        vertical-align: middle;\n",
              "    }\n",
              "\n",
              "    .dataframe tbody tr th {\n",
              "        vertical-align: top;\n",
              "    }\n",
              "\n",
              "    .dataframe thead th {\n",
              "        text-align: right;\n",
              "    }\n",
              "</style>\n",
              "<table border=\"1\" class=\"dataframe\">\n",
              "  <thead>\n",
              "    <tr style=\"text-align: right;\">\n",
              "      <th></th>\n",
              "      <th>count</th>\n",
              "    </tr>\n",
              "    <tr>\n",
              "      <th>Species</th>\n",
              "      <th></th>\n",
              "    </tr>\n",
              "  </thead>\n",
              "  <tbody>\n",
              "    <tr>\n",
              "      <th>Iris-versicolor</th>\n",
              "      <td>50</td>\n",
              "    </tr>\n",
              "    <tr>\n",
              "      <th>Iris-virginica</th>\n",
              "      <td>50</td>\n",
              "    </tr>\n",
              "    <tr>\n",
              "      <th>Iris-setosa</th>\n",
              "      <td>49</td>\n",
              "    </tr>\n",
              "  </tbody>\n",
              "</table>\n",
              "</div><br><label><b>dtype:</b> int64</label>"
            ]
          },
          "metadata": {},
          "execution_count": 97
        }
      ]
    },
    {
      "cell_type": "code",
      "source": [
        "import matplotlib.pyplot as plt\n",
        "\n",
        "species_counts = df.value_counts('Species')\n",
        "\n",
        "plt.figure(figsize=(6, 6))\n",
        "plt.pie(species_counts, labels=species_counts.index, autopct='%1.1f%%', startangle=90, colors=['skyblue', 'lightgreen', 'salmon'])\n",
        "plt.title('Distribution of Iris Species')\n",
        "plt.axis('equal') # Equal aspect ratio ensures that pie is drawn as a circle.\n",
        "plt.show()"
      ],
      "metadata": {
        "colab": {
          "base_uri": "https://localhost:8080/",
          "height": 529
        },
        "id": "lUyFDIuOdwVp",
        "outputId": "df4958f6-1ebc-42fc-f748-0e91e804ef02"
      },
      "execution_count": 98,
      "outputs": [
        {
          "output_type": "display_data",
          "data": {
            "text/plain": [
              "<Figure size 600x600 with 1 Axes>"
            ],
            "image/png": "[encoded data removed]"
          },
          "metadata": {}
        }
      ]
    },
    {
      "cell_type": "markdown",
      "source": [
        "Q.2 - Calcullate the maximum, minimum, average numerical features values based on the species."
      ],
      "metadata": {
        "id": "LCaZA0ERYTJ1"
      }
    },
    {
      "cell_type": "code",
      "source": [
        "df.groupby('Species').agg(['max', 'min', 'mean'])"
      ],
      "metadata": {
        "colab": {
          "base_uri": "https://localhost:8080/",
          "height": 206
        },
        "id": "Uwbk1Dl8Y_jT",
        "outputId": "f3111464-ebd8-45ce-b6c4-c6acde7c877d"
      },
      "execution_count": 92,
      "outputs": [
        {
          "output_type": "execute_result",
          "data": {
            "text/plain": [
              "                SepalLengthCm                SepalWidthCm                 \\\n",
              "                          max  min      mean          max  min      mean   \n",
              "Species                                                                    \n",
              "Iris-setosa               5.8  4.3  5.013776          4.4  2.3  3.426531   \n",
              "Iris-versicolor           7.0  4.9  5.936000          3.4  2.0  2.770000   \n",
              "Iris-virginica            7.9  4.9  6.588000          3.8  2.2  2.974000   \n",
              "\n",
              "                PetalLengthCm                PetalWidthCm                 \n",
              "                          max  min      mean          max  min      mean  \n",
              "Species                                                                   \n",
              "Iris-setosa               1.9  1.0  1.463187          0.6  0.1  0.244898  \n",
              "Iris-versicolor           5.1  3.0  4.260000          1.8  1.0  1.326000  \n",
              "Iris-virginica            6.9  4.5  5.552000          2.5  1.4  2.026000  "
            ],
            "text/html": [
              "\n",
              "  <div id=\"df-ae031697-6597-4769-948e-e5932df415b8\" class=\"colab-df-container\">\n",
              "    <div>\n",
              "<style scoped>\n",
              "    .dataframe tbody tr th:only-of-type {\n",
              "        vertical-align: middle;\n",
              "    }\n",
              "\n",
              "    .dataframe tbody tr th {\n",
              "        vertical-align: top;\n",
              "    }\n",
              "\n",
              "    .dataframe thead tr th {\n",
              "        text-align: left;\n",
              "    }\n",
              "\n",
              "    .dataframe thead tr:last-of-type th {\n",
              "        text-align: right;\n",
              "    }\n",
              "</style>\n",
              "<table border=\"1\" class=\"dataframe\">\n",
              "  <thead>\n",
              "    <tr>\n",
              "      <th></th>\n",
              "      <th colspan=\"3\" halign=\"left\">SepalLengthCm</th>\n",
              "      <th colspan=\"3\" halign=\"left\">SepalWidthCm</th>\n",
              "      <th colspan=\"3\" halign=\"left\">PetalLengthCm</th>\n",
              "      <th colspan=\"3\" halign=\"left\">PetalWidthCm</th>\n",
              "    </tr>\n",
              "    <tr>\n",
              "      <th></th>\n",
              "      <th>max</th>\n",
              "      <th>min</th>\n",
              "      <th>mean</th>\n",
              "      <th>max</th>\n",
              "      <th>min</th>\n",
              "      <th>mean</th>\n",
              "      <th>max</th>\n",
              "      <th>min</th>\n",
              "      <th>mean</th>\n",
              "      <th>max</th>\n",
              "      <th>min</th>\n",
              "      <th>mean</th>\n",
              "    </tr>\n",
              "    <tr>\n",
              "      <th>Species</th>\n",
              "      <th></th>\n",
              "      <th></th>\n",
              "      <th></th>\n",
              "      <th></th>\n",
              "      <th></th>\n",
              "      <th></th>\n",
              "      <th></th>\n",
              "      <th></th>\n",
              "      <th></th>\n",
              "      <th></th>\n",
              "      <th></th>\n",
              "      <th></th>\n",
              "    </tr>\n",
              "  </thead>\n",
              "  <tbody>\n",
              "    <tr>\n",
              "      <th>Iris-setosa</th>\n",
              "      <td>5.8</td>\n",
              "      <td>4.3</td>\n",
              "      <td>5.013776</td>\n",
              "      <td>4.4</td>\n",
              "      <td>2.3</td>\n",
              "      <td>3.426531</td>\n",
              "      <td>1.9</td>\n",
              "      <td>1.0</td>\n",
              "      <td>1.463187</td>\n",
              "      <td>0.6</td>\n",
              "      <td>0.1</td>\n",
              "      <td>0.244898</td>\n",
              "    </tr>\n",
              "    <tr>\n",
              "      <th>Iris-versicolor</th>\n",
              "      <td>7.0</td>\n",
              "      <td>4.9</td>\n",
              "      <td>5.936000</td>\n",
              "      <td>3.4</td>\n",
              "      <td>2.0</td>\n",
              "      <td>2.770000</td>\n",
              "      <td>5.1</td>\n",
              "      <td>3.0</td>\n",
              "      <td>4.260000</td>\n",
              "      <td>1.8</td>\n",
              "      <td>1.0</td>\n",
              "      <td>1.326000</td>\n",
              "    </tr>\n",
              "    <tr>\n",
              "      <th>Iris-virginica</th>\n",
              "      <td>7.9</td>\n",
              "      <td>4.9</td>\n",
              "      <td>6.588000</td>\n",
              "      <td>3.8</td>\n",
              "      <td>2.2</td>\n",
              "      <td>2.974000</td>\n",
              "      <td>6.9</td>\n",
              "      <td>4.5</td>\n",
              "      <td>5.552000</td>\n",
              "      <td>2.5</td>\n",
              "      <td>1.4</td>\n",
              "      <td>2.026000</td>\n",
              "    </tr>\n",
              "  </tbody>\n",
              "</table>\n",
              "</div>\n",
              "    <div class=\"colab-df-buttons\">\n",
              "\n",
              "  <div class=\"colab-df-container\">\n",
              "    <button class=\"colab-df-convert\" onclick=\"convertToInteractive('df-ae031697-6597-4769-948e-e5932df415b8')\"\n",
              "            title=\"Convert this dataframe to an interactive table.\"\n",
              "            style=\"display:none;\">\n",
              "\n",
              "  <svg xmlns=\"http://www.w3.org/2000/svg\" height=\"24px\" viewBox=\"0 -960 960 960\">\n",
              "    <path d=\"M120-120v-720h720v720H120Zm60-500h600v-160H180v160Zm220 220h160v-160H400v160Zm0 220h160v-160H400v160ZM180-400h160v-160H180v160Zm440 0h160v-160H620v160ZM180-180h160v-160H180v160Zm440 0h160v-160H620v160Z\"/>\n",
              "  </svg>\n",
              "    </button>\n",
              "\n",
              "  <style>\n",
              "    .colab-df-container {\n",
              "      display:flex;\n",
              "      gap: 12px;\n",
              "    }\n",
              "\n",
              "    .colab-df-convert {\n",
              "      background-color: #E8F0FE;\n",
              "      border: none;\n",
              "      border-radius: 50%;\n",
              "      cursor: pointer;\n",
              "      display: none;\n",
              "      fill: #1967D2;\n",
              "      height: 32px;\n",
              "      padding: 0 0 0 0;\n",
              "      width: 32px;\n",
              "    }\n",
              "\n",
              "    .colab-df-convert:hover {\n",
              "      background-color: #E2EBFA;\n",
              "      box-shadow: 0px 1px 2px rgba(60, 64, 67, 0.3), 0px 1px 3px 1px rgba(60, 64, 67, 0.15);\n",
              "      fill: #174EA6;\n",
              "    }\n",
              "\n",
              "    .colab-df-buttons div {\n",
              "      margin-bottom: 4px;\n",
              "    }\n",
              "\n",
              "    [theme=dark] .colab-df-convert {\n",
              "      background-color: #3B4455;\n",
              "      fill: #D2E3FC;\n",
              "    }\n",
              "\n",
              "    [theme=dark] .colab-df-convert:hover {\n",
              "      background-color: #434B5C;\n",
              "      box-shadow: 0px 1px 3px 1px rgba(0, 0, 0, 0.15);\n",
              "      filter: drop-shadow(0px 1px 2px rgba(0, 0, 0, 0.3));\n",
              "      fill: #FFFFFF;\n",
              "    }\n",
              "  </style>\n",
              "\n",
              "    <script>\n",
              "      const buttonEl =\n",
              "        document.querySelector('#df-ae031697-6597-4769-948e-e5932df415b8 button.colab-df-convert');\n",
              "      buttonEl.style.display =\n",
              "        google.colab.kernel.accessAllowed ? 'block' : 'none';\n",
              "\n",
              "      async function convertToInteractive(key) {\n",
              "        const element = document.querySelector('#df-ae031697-6597-4769-948e-e5932df415b8');\n",
              "        const dataTable =\n",
              "          await google.colab.kernel.invokeFunction('convertToInteractive',\n",
              "                                                    [key], {});\n",
              "        if (!dataTable) return;\n",
              "\n",
              "        const docLinkHtml = 'Like what you see? Visit the ' +\n",
              "          '<a target=\"_blank\" href=https://colab.research.google.com/notebooks/data_table.ipynb>data table notebook</a>'\n",
              "          + ' to learn more about interactive tables.';\n",
              "        element.innerHTML = '';\n",
              "        dataTable['output_type'] = 'display_data';\n",
              "        await google.colab.output.renderOutput(dataTable, element);\n",
              "        const docLink = document.createElement('div');\n",
              "        docLink.innerHTML = docLinkHtml;\n",
              "        element.appendChild(docLink);\n",
              "      }\n",
              "    </script>\n",
              "  </div>\n",
              "\n",
              "\n",
              "    <div id=\"df-1630bb4e-be7a-4112-9cff-ac133a0b5de3\">\n",
              "      <button class=\"colab-df-quickchart\" onclick=\"quickchart('df-1630bb4e-be7a-4112-9cff-ac133a0b5de3')\"\n",
              "                title=\"Suggest charts\"\n",
              "                style=\"display:none;\">\n",
              "\n",
              "<svg xmlns=\"http://www.w3.org/2000/svg\" height=\"24px\"viewBox=\"0 0 24 24\"\n",
              "     width=\"24px\">\n",
              "    <g>\n",
              "        <path d=\"M19 3H5c-1.1 0-2 .9-2 2v14c0 1.1.9 2 2 2h14c1.1 0 2-.9 2-2V5c0-1.1-.9-2-2-2zM9 17H7v-7h2v7zm4 0h-2V7h2v10zm4 0h-2v-4h2v4z\"/>\n",
              "    </g>\n",
              "</svg>\n",
              "      </button>\n",
              "\n",
              "<style>\n",
              "  .colab-df-quickchart {\n",
              "      --bg-color: #E8F0FE;\n",
              "      --fill-color: #1967D2;\n",
              "      --hover-bg-color: #E2EBFA;\n",
              "      --hover-fill-color: #174EA6;\n",
              "      --disabled-fill-color: #AAA;\n",
              "      --disabled-bg-color: #DDD;\n",
              "  }\n",
              "\n",
              "  [theme=dark] .colab-df-quickchart {\n",
              "      --bg-color: #3B4455;\n",
              "      --fill-color: #D2E3FC;\n",
              "      --hover-bg-color: #434B5C;\n",
              "      --hover-fill-color: #FFFFFF;\n",
              "      --disabled-bg-color: #3B4455;\n",
              "      --disabled-fill-color: #666;\n",
              "  }\n",
              "\n",
              "  .colab-df-quickchart {\n",
              "    background-color: var(--bg-color);\n",
              "    border: none;\n",
              "    border-radius: 50%;\n",
              "    cursor: pointer;\n",
              "    display: none;\n",
              "    fill: var(--fill-color);\n",
              "    height: 32px;\n",
              "    padding: 0;\n",
              "    width: 32px;\n",
              "  }\n",
              "\n",
              "  .colab-df-quickchart:hover {\n",
              "    background-color: var(--hover-bg-color);\n",
              "    box-shadow: 0 1px 2px rgba(60, 64, 67, 0.3), 0 1px 3px 1px rgba(60, 64, 67, 0.15);\n",
              "    fill: var(--button-hover-fill-color);\n",
              "  }\n",
              "\n",
              "  .colab-df-quickchart-complete:disabled,\n",
              "  .colab-df-quickchart-complete:disabled:hover {\n",
              "    background-color: var(--disabled-bg-color);\n",
              "    fill: var(--disabled-fill-color);\n",
              "    box-shadow: none;\n",
              "  }\n",
              "\n",
              "  .colab-df-spinner {\n",
              "    border: 2px solid var(--fill-color);\n",
              "    border-color: transparent;\n",
              "    border-bottom-color: var(--fill-color);\n",
              "    animation:\n",
              "      spin 1s steps(1) infinite;\n",
              "  }\n",
              "\n",
              "  @keyframes spin {\n",
              "    0% {\n",
              "      border-color: transparent;\n",
              "      border-bottom-color: var(--fill-color);\n",
              "      border-left-color: var(--fill-color);\n",
              "    }\n",
              "    20% {\n",
              "      border-color: transparent;\n",
              "      border-left-color: var(--fill-color);\n",
              "      border-top-color: var(--fill-color);\n",
              "    }\n",
              "    30% {\n",
              "      border-color: transparent;\n",
              "      border-left-color: var(--fill-color);\n",
              "      border-top-color: var(--fill-color);\n",
              "      border-right-color: var(--fill-color);\n",
              "    }\n",
              "    40% {\n",
              "      border-color: transparent;\n",
              "      border-right-color: var(--fill-color);\n",
              "      border-top-color: var(--fill-color);\n",
              "    }\n",
              "    60% {\n",
              "      border-color: transparent;\n",
              "      border-right-color: var(--fill-color);\n",
              "    }\n",
              "    80% {\n",
              "      border-color: transparent;\n",
              "      border-right-color: var(--fill-color);\n",
              "      border-bottom-color: var(--fill-color);\n",
              "    }\n",
              "    90% {\n",
              "      border-color: transparent;\n",
              "      border-bottom-color: var(--fill-color);\n",
              "    }\n",
              "  }\n",
              "</style>\n",
              "\n",
              "      <script>\n",
              "        async function quickchart(key) {\n",
              "          const quickchartButtonEl =\n",
              "            document.querySelector('#' + key + ' button');\n",
              "          quickchartButtonEl.disabled = true;  // To prevent multiple clicks.\n",
              "          quickchartButtonEl.classList.add('colab-df-spinner');\n",
              "          try {\n",
              "            const charts = await google.colab.kernel.invokeFunction(\n",
              "                'suggestCharts', [key], {});\n",
              "          } catch (error) {\n",
              "            console.error('Error during call to suggestCharts:', error);\n",
              "          }\n",
              "          quickchartButtonEl.classList.remove('colab-df-spinner');\n",
              "          quickchartButtonEl.classList.add('colab-df-quickchart-complete');\n",
              "        }\n",
              "        (() => {\n",
              "          let quickchartButtonEl =\n",
              "            document.querySelector('#df-1630bb4e-be7a-4112-9cff-ac133a0b5de3 button');\n",
              "          quickchartButtonEl.style.display =\n",
              "            google.colab.kernel.accessAllowed ? 'block' : 'none';\n",
              "        })();\n",
              "      </script>\n",
              "    </div>\n",
              "\n",
              "    </div>\n",
              "  </div>\n"
            ],
            "application/vnd.google.colaboratory.intrinsic+json": {
              "type": "dataframe",
              "summary": "{\n  \"name\": \"df\",\n  \"rows\": 3,\n  \"fields\": [\n    {\n      \"column\": [\n        \"Species\",\n        \"\"\n      ],\n      \"properties\": {\n        \"dtype\": \"string\",\n        \"num_unique_values\": 3,\n        \"samples\": [\n          \"Iris-setosa\",\n          \"Iris-versicolor\",\n          \"Iris-virginica\"\n        ],\n        \"semantic_type\": \"\",\n        \"description\": \"\"\n      }\n    },\n    {\n      \"column\": [\n        \"SepalLengthCm\",\n        \"max\"\n      ],\n      \"properties\": {\n        \"dtype\": \"number\",\n        \"std\": 1.053565375285274,\n        \"min\": 5.8,\n        \"max\": 7.9,\n        \"num_unique_values\": 3,\n        \"samples\": [\n          5.8,\n          7.0,\n          7.9\n        ],\n        \"semantic_type\": \"\",\n        \"description\": \"\"\n      }\n    },\n    {\n      \"column\": [\n        \"SepalLengthCm\",\n        \"min\"\n      ],\n      \"properties\": {\n        \"dtype\": \"number\",\n        \"std\": 0.34641016151377574,\n        \"min\": 4.3,\n        \"max\": 4.9,\n        \"num_unique_values\": 2,\n        \"samples\": [\n          4.9,\n          4.3\n        ],\n        \"semantic_type\": \"\",\n        \"description\": \"\"\n      }\n    },\n    {\n      \"column\": [\n        \"SepalLengthCm\",\n        \"mean\"\n      ],\n      \"properties\": {\n        \"dtype\": \"number\",\n        \"std\": 0.7909682625167458,\n        \"min\": 5.0137755102040815,\n        \"max\": 6.587999999999999,\n        \"num_unique_values\": 3,\n        \"samples\": [\n          5.0137755102040815,\n          5.936\n        ],\n        \"semantic_type\": \"\",\n        \"description\": \"\"\n      }\n    },\n    {\n      \"column\": [\n        \"SepalWidthCm\",\n        \"max\"\n      ],\n      \"properties\": {\n        \"dtype\": \"number\",\n        \"std\": 0.5033222956847169,\n        \"min\": 3.4,\n        \"max\": 4.4,\n        \"num_unique_values\": 3,\n        \"samples\": [\n          4.4,\n          3.4\n        ],\n        \"semantic_type\": \"\",\n        \"description\": \"\"\n      }\n    },\n    {\n      \"column\": [\n        \"SepalWidthCm\",\n        \"min\"\n      ],\n      \"properties\": {\n        \"dtype\": \"number\",\n        \"std\": 0.1527525231651946,\n        \"min\": 2.0,\n        \"max\": 2.3,\n        \"num_unique_values\": 3,\n        \"samples\": [\n          2.3,\n          2.0\n        ],\n        \"semantic_type\": \"\",\n        \"description\": \"\"\n      }\n    },\n    {\n      \"column\": [\n        \"SepalWidthCm\",\n        \"mean\"\n      ],\n      \"properties\": {\n        \"dtype\": \"number\",\n        \"std\": 0.33601398776276237,\n        \"min\": 2.77,\n        \"max\": 3.426530612244898,\n        \"num_unique_values\": 3,\n        \"samples\": [\n          3.426530612244898,\n          2.77\n        ],\n        \"semantic_type\": \"\",\n        \"description\": \"\"\n      }\n    },\n    {\n      \"column\": [\n        \"PetalLengthCm\",\n        \"max\"\n      ],\n      \"properties\": {\n        \"dtype\": \"number\",\n        \"std\": 2.5324559884296773,\n        \"min\": 1.9,\n        \"max\": 6.9,\n        \"num_unique_values\": 3,\n        \"samples\": [\n          1.9,\n          5.1\n        ],\n        \"semantic_type\": \"\",\n        \"description\": \"\"\n      }\n    },\n    {\n      \"column\": [\n        \"PetalLengthCm\",\n        \"min\"\n      ],\n      \"properties\": {\n        \"dtype\": \"number\",\n        \"std\": 1.755942292142123,\n        \"min\": 1.0,\n        \"max\": 4.5,\n        \"num_unique_values\": 3,\n        \"samples\": [\n          1.0,\n          3.0\n        ],\n        \"semantic_type\": \"\",\n        \"description\": \"\"\n      }\n    },\n    {\n      \"column\": [\n        \"PetalLengthCm\",\n        \"mean\"\n      ],\n      \"properties\": {\n        \"dtype\": \"number\",\n        \"std\": 2.0900486947512946,\n        \"min\": 1.4631868131868133,\n        \"max\": 5.5520000000000005,\n        \"num_unique_values\": 3,\n        \"samples\": [\n          1.4631868131868133,\n          4.26\n        ],\n        \"semantic_type\": \"\",\n        \"description\": \"\"\n      }\n    },\n    {\n      \"column\": [\n        \"PetalWidthCm\",\n        \"max\"\n      ],\n      \"properties\": {\n        \"dtype\": \"number\",\n        \"std\": 0.960902353693305,\n        \"min\": 0.6,\n        \"max\": 2.5,\n        \"num_unique_values\": 3,\n        \"samples\": [\n          0.6,\n          1.8\n        ],\n        \"semantic_type\": \"\",\n        \"description\": \"\"\n      }\n    },\n    {\n      \"column\": [\n        \"PetalWidthCm\",\n        \"min\"\n      ],\n      \"properties\": {\n        \"dtype\": \"number\",\n        \"std\": 0.6658328118479393,\n        \"min\": 0.1,\n        \"max\": 1.4,\n        \"num_unique_values\": 3,\n        \"samples\": [\n          0.1,\n          1.0\n        ],\n        \"semantic_type\": \"\",\n        \"description\": \"\"\n      }\n    },\n    {\n      \"column\": [\n        \"PetalWidthCm\",\n        \"mean\"\n      ],\n      \"properties\": {\n        \"dtype\": \"number\",\n        \"std\": 0.8973206508319929,\n        \"min\": 0.24489795918367346,\n        \"max\": 2.026,\n        \"num_unique_values\": 3,\n        \"samples\": [\n          0.24489795918367346,\n          1.3259999999999998\n        ],\n        \"semantic_type\": \"\",\n        \"description\": \"\"\n      }\n    }\n  ]\n}"
            }
          },
          "metadata": {},
          "execution_count": 92
        }
      ]
    },
    {
      "cell_type": "code",
      "source": [
        "import matplotlib.pyplot as plt\n",
        "\n",
        "# Get the aggregated data from the previous cell\n",
        "aggregated_data = df.groupby('Species').agg(['max', 'min', 'mean'])\n",
        "\n",
        "# Flatten the multi-level columns for easier plotting\n",
        "aggregated_data.columns = ['_'.join(col).strip() for col in aggregated_data.columns.values]\n",
        "\n",
        "# Plotting\n",
        "fig, axes = plt.subplots(nrows=2, ncols=2, figsize=(14, 10))\n",
        "fig.suptitle('Max, Min, and Mean of Iris Features by Species', y=1.02, fontsize=16)\n",
        "\n",
        "features = ['SepalLengthCm', 'SepalWidthCm', 'PetalLengthCm', 'PetalWidthCm']\n",
        "for i, feature in enumerate(features):\n",
        "    row = i // 2\n",
        "    col = i % 2\n",
        "    aggregated_data[[f'{feature}_max', f'{feature}_min', f'{feature}_mean']].plot(kind='bar', ax=axes[row, col])\n",
        "    axes[row, col].set_title(f'{feature} Statistics')\n",
        "    axes[row, col].set_ylabel(feature)\n",
        "    axes[row, col].tick_params(axis='x', rotation=0)\n",
        "\n",
        "plt.tight_layout()\n",
        "plt.show()"
      ],
      "metadata": {
        "colab": {
          "base_uri": "https://localhost:8080/",
          "height": 1000
        },
        "id": "ndAuLq58ZNCP",
        "outputId": "cc24168e-8384-47d5-f620-7f83f4185dfb"
      },
      "execution_count": 96,
      "outputs": [
        {
          "output_type": "display_data",
          "data": {
            "text/plain": [
              "<Figure size 1400x1000 with 4 Axes>"
            ],
            "image/png": "[encoded data removed]"
          },
          "metadata": {}
        }
      ]
    },
    {
      "cell_type": "markdown",
      "source": [
        "## **Explanation of the Visualization**\n",
        "\n",
        "The figure presents a comparative summary of the maximum, minimum, and mean values for each of the four Iris flower features (Sepal Length, Sepal Width, Petal Length, and Petal Width) across the three species: Iris-setosa, Iris-versicolor, and Iris-virginica.\n",
        "\n",
        "The visualization is organized into four subplots:\n",
        "\n",
        "    SepalLengthCm Statistics (top-left) — Displays the max, min, and mean sepal\n",
        "    lengths for each species.\n",
        "\n",
        "    SepalWidthCm Statistics (top-right) — Shows the same statistics for sepal width.\n",
        "\n",
        "    PetalLengthCm Statistics (bottom-left) — Highlights the variation in petal length.\n",
        "\n",
        "    PetalWidthCm Statistics (bottom-right) — Compares the petal width statistics.\n",
        "\n",
        "Key Insights:\n",
        "\n",
        "Iris-virginica generally has the largest sepal and petal measurements among the three species.\n",
        "\n",
        "Iris-setosa has the smallest petal dimensions but a relatively wide sepal compared to Iris-versicolor.\n",
        "\n",
        "The differences in petal length and width are especially significant between Iris-setosa and the other two species, which is one reason why petal measurements are often strong predictors for classifying Iris species.\n",
        "\n",
        "The minimum values show the natural lower bounds of each measurement, while the mean values give a good indication of the typical size for each species.\n",
        "\n",
        "Overall, this grouped bar chart makes it easy to compare species differences and understand the range and average of each feature, which is useful for both exploratory data analysis and feature selection for classification tasks.\n",
        "\n"
      ],
      "metadata": {
        "id": "uk_HDDPpeozs"
      }
    }
  ]
}